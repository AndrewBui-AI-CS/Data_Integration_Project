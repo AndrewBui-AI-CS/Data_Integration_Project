{
 "cells": [
  {
   "cell_type": "code",
   "execution_count": 111,
   "metadata": {},
   "outputs": [],
   "source": [
    "import numpy,datetime,re\n",
    "import pandas as pd\n",
    "import numpy as np\n",
    "from fuzzywuzzy import fuzz\n",
    "from fuzzywuzzy import process\n",
    "from difflib import SequenceMatcher"
   ]
  },
  {
   "cell_type": "code",
   "execution_count": 112,
   "metadata": {
    "collapsed": true
   },
   "outputs": [],
   "source": [
    "tentative_engagements = []\n",
    "free_imdbs = []\n",
    "corresponacy1 = []"
   ]
  },
  {
   "cell_type": "code",
   "execution_count": 113,
   "metadata": {
    "collapsed": true
   },
   "outputs": [],
   "source": [
    "def importdatasets():\n",
    "    #READ DATA:\n",
    "    # IMDB_DF = pd.read_csv(\"imdb.csv\")\n",
    "    IMDB_DF = pd.read_json('../data/xechotot.json')\n",
    "    #for task2\n",
    "    # IMDB_DF_SAMPLE = IMDB_DF.sample(100).astype(str)\n",
    "    IMDB_DF_SAMPLE = IMDB_DF.sample(50).astype(str)\n",
    "    imdb_header = list(IMDB_DF.columns.values)\n",
    "\n",
    "    #imdb_header for task 1\n",
    "    tbl1 = np.array(imdb_header)\n",
    "\n",
    "    # ROTTEN_TOMATOES_DF = pd.read_csv(\"rotten_tomatoes.csv\")\n",
    "    ROTTEN_TOMATOES_DF = pd.read_json('../data/anycar.json')\n",
    "    #for task2\n",
    "    # ROTTEN_TOMATOES_DF_SAMPLE = ROTTEN_TOMATOES_DF.sample(100).astype(str)\n",
    "    ROTTEN_TOMATOES_DF_SAMPLE = ROTTEN_TOMATOES_DF.sample(50).astype(str)\n",
    "    rt_header = list(ROTTEN_TOMATOES_DF.columns.values)\n",
    "    #rt_header for task1\n",
    "    tbl2 = np.array(rt_header)\n",
    "\n",
    "    return IMDB_DF_SAMPLE,tbl1,ROTTEN_TOMATOES_DF_SAMPLE,tbl2"
   ]
  },
  {
   "cell_type": "code",
   "execution_count": 114,
   "metadata": {
    "collapsed": true
   },
   "outputs": [],
   "source": [
    "def matchingtablebyheaders(tbl1,tbl2):\n",
    "          #creation array to add sort index of matching\n",
    "    # For matching\n",
    "    Pref=np.zeros((len(tbl1),len(tbl2)))\n",
    "        #assign the matching ratio between tbl1 and tbl2\n",
    "    for i in range(len(tbl1)):\n",
    "        for j in range(len(tbl2)):\n",
    "            Pref[i,j] = int(100*SequenceMatcher(None,tbl1[i],tbl2[j]).ratio())\n",
    "    #df = pd.DataFrame(Pref)\n",
    "    #df.to_csv(\"file_path.csv\")\n",
    "    return Pref"
   ]
  },
  {
   "cell_type": "code",
   "execution_count": 115,
   "metadata": {
    "collapsed": true
   },
   "outputs": [],
   "source": [
    "def listofpreferencespertable(tbl1,tbl2,Pref):\n",
    "        #for Tomatoes\n",
    "    ipref_tom=np.zeros((len(tbl1),len(tbl2)),dtype=np.int8)\n",
    "    #for IMdb\n",
    "    ipref_imdb=np.zeros((len(tbl2),len(tbl1)),dtype=np.int8)\n",
    "    pref_imdb=np.zeros((len(tbl2),len(tbl1)),dtype=np.int8)\n",
    "    preferred_rankings_tomatoes = {}\n",
    "    preferred_rankings_imdb = {}\n",
    "    #create list of preferred_rankings_tomatoes with header\n",
    "    #assign the array indexs of Pref sorted by the actual values decending based on the lenght of tbl2 (17)\n",
    "    for i in range(len(tbl2)):\n",
    "        ipref_tom[:,i]=np.argsort(Pref[:,i])\n",
    "        ipref_tom[:,i]=ipref_tom[::-1,i]\n",
    "        preferred_rankings_tomatoes[i] = ipref_tom[:,i]\n",
    "        #pref_tom[:,i]=np.sort(Pref[:,i])\n",
    "        #pref_tom[:,i]=pref_tom[::-1,i]\n",
    "    #ipref_tom\n",
    "\n",
    "    #create list of preferred_rankings_Imdb with header\n",
    "    #assign the array indexs of Pref sorted by the actual values decending based on the lenght of tbl1 (13)\n",
    "    for i in range(len(tbl1)):\n",
    "        #get indexs values of rows and store them in the rows as well\n",
    "        ipref_imdb[:,i] = np.argsort(Pref[i,:])\n",
    "        ipref_imdb[:,i] = ipref_imdb[::-1,i]\n",
    "        preferred_rankings_imdb[i] = ipref_imdb[:,i]\n",
    "        #pref_imdb[:,i] = np.sort(Pref[i,:])\n",
    "      #  pref_imdb[:,i] = pref_imdb[::-1,i]\n",
    "    #ipref_imdb\n",
    "    return preferred_rankings_imdb,preferred_rankings_tomatoes"
   ]
  },
  {
   "cell_type": "code",
   "execution_count": 116,
   "metadata": {
    "collapsed": true
   },
   "outputs": [],
   "source": [
    "#Imdb which still need to propose and get accepted successfully\n",
    "#Keep track of the headers that \"may\" end up together\n",
    "def init_free_imdbs(preferred_rankings_imdb):\n",
    "    #corresponacy1 = list.clear()\n",
    "    #'''Initialize the arrays of tomates and imdbs to represent that they're all initially free and not engaged'''\n",
    "    for imdb in preferred_rankings_imdb.keys():\n",
    "        free_imdbs.append(imdb)"
   ]
  },
  {
   "cell_type": "code",
   "execution_count": 117,
   "metadata": {
    "collapsed": true
   },
   "outputs": [],
   "source": [
    "def begin_matching(imdb,preferred_rankings_imdb,preferred_rankings_tomatoes):\n",
    "    #  '''Find the first free Tomaten available to a Imdb at any given time'''\n",
    "    # print(\"DEALING WITH %s\"%(imdb))\n",
    "    # print(preferred_rankings_imdb[imdb])\n",
    "    for tomate in preferred_rankings_imdb[imdb]:\n",
    "        #Boolean for whether tomate is taken or not\n",
    "        taken_match = [couple for couple in tentative_engagements if tomate == couple [:][1]]\n",
    "        if (len(taken_match) == 0):\n",
    "            #tentatively engage the man and woman\n",
    "            tentative_engagements.append([imdb, tomate])\n",
    "            free_imdbs.remove(imdb)\n",
    "            # print('%s is no longer a free imdb and is now tentatively engaged to %s'%( imdb, tomate))\n",
    "            break\n",
    "        elif (len(taken_match) > 0):\n",
    "            # print('%s is taken already..'%(tomate))\n",
    "            # print('%s tttt..'%(taken_match[0][0]))\n",
    "            current_imdb = list(preferred_rankings_tomatoes[tomate].tolist()).index(taken_match[0][0])\n",
    "            potential_imdb = list(preferred_rankings_tomatoes[tomate].tolist()).index(imdb)\n",
    "            # print('potential_imdb %s..'%(current_imdb))\n",
    "            if (current_imdb < potential_imdb):\n",
    "                ii=[]\n",
    "                # print('Tomataen\\'s satisfied with %s..'%(taken_match[0][0]))\n",
    "            else: \n",
    "                # print('%s is better than %s'%(imdb, taken_match[0][0]))\n",
    "                # print('Making %s free again.. and tentatively engaging %s and %s'%(taken_match[0][0], imdb, tomate))\n",
    "                #The new imdb is engaged\n",
    "                free_imdbs.remove(imdb)\n",
    "                #The old imdb is now single\n",
    "                free_imdbs.append(taken_match[0][0])\n",
    "                #Update the fiance of the tomaten (tentatively)\n",
    "                taken_match[0][0] = imdb\n",
    "                break"
   ]
  },
  {
   "cell_type": "code",
   "execution_count": 118,
   "metadata": {
    "collapsed": true
   },
   "outputs": [],
   "source": [
    "def stable_matching(preferred_rankings_imdb,preferred_rankings_tomatoes):\n",
    "    '''Matching algorithm until stable match terminates'''\n",
    "    while (len(free_imdbs) > 0):\n",
    "        for imdb in free_imdbs:\n",
    "            begin_matching(imdb,preferred_rankings_imdb,preferred_rankings_tomatoes)"
   ]
  },
  {
   "cell_type": "code",
   "execution_count": 119,
   "metadata": {
    "collapsed": true
   },
   "outputs": [],
   "source": [
    "def check_short_matching(COL1,COL2):\n",
    "    rate = 0.0\n",
    "    if str(COL1) == 'nan' or str(COL2) == 'nan' :\n",
    "        return 0\n",
    "    COL1 = str(COL1)\n",
    "    COL2 = str(COL2)\n",
    "    sw = (fuzz.SequenceMatcher(None,COL1, COL2).ratio())\n",
    "    return sw #/(max(len(COL1),len(COL2))*1.0)"
   ]
  },
  {
   "cell_type": "code",
   "execution_count": 120,
   "metadata": {
    "collapsed": true
   },
   "outputs": [],
   "source": [
    "def check_match(st1,st2):\n",
    "    str1 = np.array((st1.values).astype(str))\n",
    "    str2 = np.array((st2.values).astype(str))\n",
    "    ret = np.zeros((len(str1),len(str2)))\n",
    "    for i in range(len(str1)):\n",
    "        for j in range(len(str2)):\n",
    "            ret[i,j] = check_short_matching(str1[i],str2[j])\n",
    "    return numpy.average(ret)"
   ]
  },
  {
   "cell_type": "code",
   "execution_count": 121,
   "metadata": {
    "collapsed": true
   },
   "outputs": [],
   "source": [
    "def matchingtablebyvalues(IMDB_DF_SAMPLE,ROTTEN_TOMATOES_DF_SAMPLE,tbl1,tbl2):\n",
    "    index_i = 0\n",
    "    Pref=np.zeros((len(tbl1),len(tbl2)))\n",
    "    for i in IMDB_DF_SAMPLE:\n",
    "        index_j = 0\n",
    "        for j in ROTTEN_TOMATOES_DF_SAMPLE:\n",
    "            table1 = IMDB_DF_SAMPLE[i]\n",
    "            table2 = ROTTEN_TOMATOES_DF_SAMPLE[j]\n",
    "            value1 = (table1.values).astype(str)\n",
    "            value2 = (table2.values).astype(str)\n",
    "            #dd.append([ 100* (check_match(table1, table2)),i,j])\n",
    "            Pref[index_i,index_j] = 100 * (float(check_match(table1, table2)))\n",
    "            index_j+=1\n",
    "        index_i+=1\n",
    "    return Pref"
   ]
  },
  {
   "cell_type": "code",
   "execution_count": 122,
   "metadata": {
    "collapsed": true
   },
   "outputs": [],
   "source": [
    "def outputforcolumns(tbl1,tbl2,Pref):\n",
    "    i = 0\n",
    "    for item in tentative_engagements:\n",
    "        matching=Pref[item[0],item[1]]\n",
    "        if(matching > 50.0):\n",
    "            corresponacy1.append(item)\n",
    "            print(i ,'. CORRECT \\t(',tbl1[item[0]],' - ',tbl2[item[1]],') with matching',matching, '%')\n",
    "            i+=1\n",
    "        else:\n",
    "                print(i,'. Wrong \\t(',tbl1[item[0]],' - ',tbl2[item[1]],')with matching',matching, '%')\n",
    "                i+=1\n",
    "    found =len(corresponacy1) - 1\n",
    "    print('A:Number of the discovered correspondences that are in G(withoutID)',found)\n",
    "    print('B:Number of all the discovered correspondences',len(corresponacy1))\n",
    "    print('precision(A/B):',found/len(corresponacy1)*100)\n",
    "    print('recall(A/Number of all the actual correspondences = 10):',(found/10)*100)\n",
    "    "
   ]
  },
  {
   "cell_type": "code",
   "execution_count": 123,
   "metadata": {},
   "outputs": [
    {
     "name": "stdout",
     "output_type": "stream",
     "text": [
      "0 . CORRECT \t( source  -  source ) with matching 100.0 %\n",
      "1 . CORRECT \t( base_url  -  base_url ) with matching 100.0 %\n",
      "2 . CORRECT \t( dong_xe  -  dan_dong ) with matching 53.0 %\n",
      "3 . CORRECT \t( tinh_trang  -  tinh_trang_ho_so ) with matching 76.0 %\n",
      "4 . CORRECT \t( kieu_dang  -  kieu_dang ) with matching 100.0 %\n",
      "5 . CORRECT \t( so_km_da_di  -  km_da_di ) with matching 84.0 %\n",
      "6 . CORRECT \t( xuat_xu  -  xuat_xu ) with matching 100.0 %\n",
      "7 . CORRECT \t( name  -  name ) with matching 100.0 %\n",
      "8 . CORRECT \t( nam_san_xuat  -  nam_sx ) with matching 66.0 %\n",
      "9 . CORRECT \t( so_cho  -  so_cho_ngoi ) with matching 70.0 %\n",
      "10 . CORRECT \t( price  -  price ) with matching 100.0 %\n",
      "11 . CORRECT \t( hop_so  -  hop_so ) with matching 100.0 %\n",
      "12 . CORRECT \t( nhien_lieu  -  nhien_lieu ) with matching 100.0 %\n",
      "13 . Wrong \t( hang  -  mau_noi_that )with matching 25.0 %\n",
      "A:Number of the discovered correspondences that are in G(withoutID) 12\n",
      "B:Number of all the discovered correspondences 13\n",
      "precision(A/B): 92.3076923076923\n",
      "recall(A/Number of all the actual correspondences = 10): 120.0\n"
     ]
    }
   ],
   "source": [
    "def main1():\n",
    "    tentative_engagements.clear()\n",
    "    free_imdbs.clear()\n",
    "    corresponacy1.clear()\n",
    "    #add data\n",
    "#     #creation templates\n",
    "    IMDB_DF_SAMPLE,tbl1,ROTTEN_TOMATOES_DF_SAMPLE,tbl2=importdatasets()\n",
    "    Pref=matchingtablebyheaders(tbl1,tbl2)\n",
    "    preferred_rankings_imdb,preferred_rankings_tomatoes=listofpreferencespertable(tbl1,tbl2,Pref)\n",
    "#    # print(preferred_rankings_tomatoes)\n",
    "    init_free_imdbs(preferred_rankings_imdb)\n",
    "    stable_matching(preferred_rankings_imdb,preferred_rankings_tomatoes)\n",
    "    # print(tentative_engagements)\n",
    "    outputforcolumns(tbl1,tbl2,Pref)\n",
    "    \n",
    "    \n",
    "main1()"
   ]
  },
  {
   "cell_type": "code",
   "execution_count": 124,
   "metadata": {
    "collapsed": true
   },
   "outputs": [],
   "source": [
    "def outputforvalues(tbl1,tbl2,Pref):\n",
    "    i = 0\n",
    "    for item in tentative_engagements:\n",
    "        matching=Pref[item[0],item[1]]\n",
    "        if(matching > 0.0):\n",
    "            corresponacy1.append(item)\n",
    "            print(i ,'. CORRECT \\t(',tbl1[item[0]],' - ',tbl2[item[1]],')with matching',matching, '%')\n",
    "            i+=1\n",
    "        else:\n",
    "                print(i,'. Wrong \\t(',tbl1[item[0]],' - ',tbl2[item[1]],')with matching',matching, '%')\n",
    "                i+=1\n",
    "    found =len(corresponacy1) - 1\n",
    "    print('A:Number of the discovered correspondences that are in G(withoutID)',found)\n",
    "    print('B:Number of all the discovered correspondences',len(corresponacy1))\n",
    "    print('precision(A/B):',found/len(corresponacy1)*100)\n",
    "    print('recall(A/Number of all the actual correspondences = 10):',(found/10)*100)"
   ]
  },
  {
   "cell_type": "code",
   "execution_count": 125,
   "metadata": {},
   "outputs": [
    {
     "name": "stdout",
     "output_type": "stream",
     "text": [
      "0 . CORRECT \t( source  -  source )with matching 37.2214431042082 %\n",
      "1 . CORRECT \t( base_url  -  base_url )with matching 47.368421052631575 %\n",
      "2 . CORRECT \t( kieu_dang  -  kieu_dang )with matching 21.541932133465316 %\n",
      "3 . CORRECT \t( hop_so  -  hop_so )with matching 66.4609179056238 %\n",
      "4 . CORRECT \t( price  -  price )with matching 68.1689129325891 %\n",
      "5 . CORRECT \t( xuat_xu  -  dan_dong )with matching 18.116666666666664 %\n",
      "6 . CORRECT \t( name  -  name )with matching 22.100829572276243 %\n",
      "7 . CORRECT \t( nam_san_xuat  -  nam_sx )with matching 68.89 %\n",
      "8 . CORRECT \t( nhien_lieu  -  nhien_lieu )with matching 71.04 %\n",
      "9 . CORRECT \t( so_cho  -  so_cho_ngoi )with matching 42.24 %\n",
      "10 . CORRECT \t( so_km_da_di  -  km_da_di )with matching 12.640927072927072 %\n",
      "11 . CORRECT \t( tinh_trang  -  xuat_xu )with matching 22.50105263157894 %\n",
      "12 . CORRECT \t( hang  -  mau_xe )with matching 7.905278290337114 %\n",
      "13 . CORRECT \t( dong_xe  -  mau_noi_that )with matching 10.81575006039712 %\n",
      "A:Number of the discovered correspondences that are in G(withoutID) 13\n",
      "B:Number of all the discovered correspondences 14\n",
      "precision(A/B): 92.85714285714286\n",
      "recall(A/Number of all the actual correspondences = 10): 130.0\n"
     ]
    }
   ],
   "source": [
    "def main2():\n",
    "    tentative_engagements.clear()\n",
    "    free_imdbs.clear()\n",
    "    corresponacy1.clear()\n",
    "    #add data\n",
    "    IMDB_DF_SAMPLE,tbl1,ROTTEN_TOMATOES_DF_SAMPLE,tbl2=importdatasets()\n",
    "    #creation templates\n",
    "    Pref=matchingtablebyvalues(IMDB_DF_SAMPLE,ROTTEN_TOMATOES_DF_SAMPLE,tbl1,tbl2)\n",
    "    preferred_rankings_imdb,preferred_rankings_tomatoes=listofpreferencespertable(tbl1,tbl2,Pref)\n",
    "    # print(preferred_rankings_tomatoes)\n",
    "    init_free_imdbs(preferred_rankings_imdb)\n",
    "    stable_matching(preferred_rankings_imdb,preferred_rankings_tomatoes)\n",
    "    # print(tentative_engagements)\n",
    "    outputforvalues(tbl1,tbl2,Pref)\n",
    "\n",
    "    \n",
    "    \n",
    "main2()"
   ]
  },
  {
   "cell_type": "code",
   "execution_count": null,
   "metadata": {
    "collapsed": true
   },
   "outputs": [],
   "source": []
  },
  {
   "cell_type": "code",
   "execution_count": null,
   "metadata": {
    "collapsed": true
   },
   "outputs": [],
   "source": []
  }
 ],
 "metadata": {
  "interpreter": {
   "hash": "31f2aee4e71d21fbe5cf8b01ff0e069b9275f58929596ceb00d14d90e3e16cd6"
  },
  "kernelspec": {
   "display_name": "Python 3.8.10 64-bit",
   "language": "python",
   "name": "python3"
  },
  "language_info": {
   "codemirror_mode": {
    "name": "ipython",
    "version": 3
   },
   "file_extension": ".py",
   "mimetype": "text/x-python",
   "name": "python",
   "nbconvert_exporter": "python",
   "pygments_lexer": "ipython3",
   "version": "3.8.10"
  }
 },
 "nbformat": 4,
 "nbformat_minor": 2
}
